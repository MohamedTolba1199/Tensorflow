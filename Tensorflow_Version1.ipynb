{
  "nbformat": 4,
  "nbformat_minor": 0,
  "metadata": {
    "colab": {
      "provenance": [],
      "authorship_tag": "ABX9TyN8Cgd9VgU1ZhD2HBq08k8x",
      "include_colab_link": true
    },
    "kernelspec": {
      "name": "python3",
      "display_name": "Python 3"
    },
    "language_info": {
      "name": "python"
    }
  },
  "cells": [
    {
      "cell_type": "markdown",
      "metadata": {
        "id": "view-in-github",
        "colab_type": "text"
      },
      "source": [
        "<a href=\"https://colab.research.google.com/github/MohamedTolba1199/Tensorflow/blob/main/Tensorflow_Version1.ipynb\" target=\"_parent\"><img src=\"https://colab.research.google.com/assets/colab-badge.svg\" alt=\"Open In Colab\"/></a>"
      ]
    },
    {
      "cell_type": "code",
      "execution_count": 2,
      "metadata": {
        "id": "vboQuE5K4KyT"
      },
      "outputs": [],
      "source": [
        "import tensorflow as tf"
      ]
    },
    {
      "cell_type": "markdown",
      "source": [
        "It use version 2 from Tensorflow by default."
      ],
      "metadata": {
        "id": "EQ7_RwF9-g2G"
      }
    },
    {
      "cell_type": "code",
      "source": [
        "tf.compat.v1.disable_eager_execution()"
      ],
      "metadata": {
        "id": "m_RgLn6v4W-f"
      },
      "execution_count": 3,
      "outputs": []
    },
    {
      "cell_type": "code",
      "source": [
        "#definition  or graph\n",
        "x= tf.constant('Tensorflow')\n",
        "print(x)\n",
        "# the result not apeared, shouls open session and run it"
      ],
      "metadata": {
        "colab": {
          "base_uri": "https://localhost:8080/"
        },
        "id": "gEOP4Xm49TWN",
        "outputId": "a5ee5167-ebcf-4ce0-ca1d-52b7c7cc9d40"
      },
      "execution_count": 4,
      "outputs": [
        {
          "output_type": "stream",
          "name": "stdout",
          "text": [
            "Tensor(\"Const:0\", shape=(), dtype=string)\n"
          ]
        }
      ]
    },
    {
      "cell_type": "code",
      "source": [
        "#session or execution\n",
        "sess=tf.compat.v1.Session()\n",
        "s=sess.run(x)\n",
        "print(s)\n",
        "sess.close()"
      ],
      "metadata": {
        "colab": {
          "base_uri": "https://localhost:8080/"
        },
        "id": "yCb7ds6e9h2x",
        "outputId": "450035e5-e865-4018-d2eb-08a53889902f"
      },
      "execution_count": 5,
      "outputs": [
        {
          "output_type": "stream",
          "name": "stdout",
          "text": [
            "b'Tensorflow'\n"
          ]
        }
      ]
    },
    {
      "cell_type": "code",
      "source": [
        "# definition or graph\n",
        "x=tf.constant(6)\n",
        "y=tf.constant(10)\n",
        "\n",
        "z=tf.add(x,y)\n",
        "print(z)"
      ],
      "metadata": {
        "colab": {
          "base_uri": "https://localhost:8080/"
        },
        "id": "WL-Z6qKO_Vkb",
        "outputId": "4f98002d-f2d5-4211-8091-a0832cb458f3"
      },
      "execution_count": 6,
      "outputs": [
        {
          "output_type": "stream",
          "name": "stdout",
          "text": [
            "Tensor(\"Add:0\", shape=(), dtype=int32)\n"
          ]
        }
      ]
    },
    {
      "cell_type": "code",
      "source": [
        "#session or execution\n",
        "sess=tf.compat.v1.Session()\n",
        "s=sess.run(z)\n",
        "print(s)\n",
        "sess.close()"
      ],
      "metadata": {
        "colab": {
          "base_uri": "https://localhost:8080/"
        },
        "id": "uPEzS0qm_au1",
        "outputId": "0123aff7-a8c6-4378-99df-c2301af82e3d"
      },
      "execution_count": 7,
      "outputs": [
        {
          "output_type": "stream",
          "name": "stdout",
          "text": [
            "16\n"
          ]
        }
      ]
    },
    {
      "cell_type": "code",
      "source": [
        "#Another way to open session and close it bydefault when finishin run\n",
        "with tf.compat.v1.Session() as sess:\n",
        "    res=sess.run(z)\n",
        "    print(res)"
      ],
      "metadata": {
        "colab": {
          "base_uri": "https://localhost:8080/"
        },
        "id": "DefKY0_f_owc",
        "outputId": "20275583-7819-4ddf-cd24-015a51b23191"
      },
      "execution_count": 8,
      "outputs": [
        {
          "output_type": "stream",
          "name": "stdout",
          "text": [
            "16\n"
          ]
        }
      ]
    },
    {
      "cell_type": "markdown",
      "source": [
        "#matrix multiplication using tensorflow"
      ],
      "metadata": {
        "id": "mI_poE4JAbwF"
      }
    },
    {
      "cell_type": "code",
      "source": [
        "import numpy as np"
      ],
      "metadata": {
        "id": "E38T1TCR_xon"
      },
      "execution_count": 9,
      "outputs": []
    },
    {
      "cell_type": "code",
      "source": [
        "var1 = np.arange(1,13,dtype=np.int32)\n",
        "var2 = np.arange(15,27,dtype=np.int32)\n",
        "var1"
      ],
      "metadata": {
        "colab": {
          "base_uri": "https://localhost:8080/"
        },
        "id": "BpVHUGq9AkfR",
        "outputId": "56ac99c3-7443-4b22-988e-ea4a3d02b128"
      },
      "execution_count": 10,
      "outputs": [
        {
          "output_type": "execute_result",
          "data": {
            "text/plain": [
              "array([ 1,  2,  3,  4,  5,  6,  7,  8,  9, 10, 11, 12], dtype=int32)"
            ]
          },
          "metadata": {},
          "execution_count": 10
        }
      ]
    },
    {
      "cell_type": "code",
      "source": [
        "# you should convert data from any type to tensor to deal with tensorflow\n",
        "mat1=tf.constant(var1,shape=[3,4])\n",
        "mat2=tf.constant(var2,shape=[4,3])\n",
        "\n",
        "c=tf.matmul(mat1,mat2)\n",
        "c"
      ],
      "metadata": {
        "colab": {
          "base_uri": "https://localhost:8080/"
        },
        "id": "VvFKHWZFEb7c",
        "outputId": "aa372557-ccc1-4967-c76f-6b6a0d60ffe5"
      },
      "execution_count": 11,
      "outputs": [
        {
          "output_type": "execute_result",
          "data": {
            "text/plain": [
              "<tf.Tensor 'MatMul:0' shape=(3, 3) dtype=int32>"
            ]
          },
          "metadata": {},
          "execution_count": 11
        }
      ]
    },
    {
      "cell_type": "code",
      "source": [
        "var1 = np.arange(1,5,dtype=np.int32)\n",
        "var2 = np.arange(6,10,dtype=np.int32)\n",
        "print(var1)\n",
        "print(var2)"
      ],
      "metadata": {
        "colab": {
          "base_uri": "https://localhost:8080/"
        },
        "id": "TwnvKt7AEhH3",
        "outputId": "2e19e661-6892-4ee8-bed0-48ca2baad9b1"
      },
      "execution_count": 12,
      "outputs": [
        {
          "output_type": "stream",
          "name": "stdout",
          "text": [
            "[1 2 3 4]\n",
            "[6 7 8 9]\n"
          ]
        }
      ]
    },
    {
      "cell_type": "markdown",
      "source": [
        "#make add,subtract,multiplication,divide using tensorflow"
      ],
      "metadata": {
        "id": "I8Q9DYT9gC3g"
      }
    },
    {
      "cell_type": "code",
      "source": [
        "#from keras.engine.training import data_adapter\n",
        "v1 = tf.constant([1, 2 ,3 ,4])\n",
        "v2 = tf.constant([6, 7 ,8 ,9])\n",
        "\n",
        "Add = tf.add(v1,v2)\n",
        "Sub = tf.subtract(v1,v2)\n",
        "Mul = tf.multiply(v1,v2)\n",
        "Div = tf.divide(v1,v2)\n",
        "\n",
        "with tf.compat.v1.Session() as sess:\n",
        "  print(sess.run(Add))\n",
        "  print(sess.run(Sub))\n",
        "  print(sess.run(Mul))\n",
        "  print(sess.run(Div))"
      ],
      "metadata": {
        "colab": {
          "base_uri": "https://localhost:8080/"
        },
        "id": "b0sKN2JlfR9c",
        "outputId": "40e7dd24-c135-447b-c6a5-2bde4496049e"
      },
      "execution_count": 13,
      "outputs": [
        {
          "output_type": "stream",
          "name": "stdout",
          "text": [
            "[ 7  9 11 13]\n",
            "[-5 -5 -5 -5]\n",
            "[ 6 14 24 36]\n",
            "[0.16666667 0.28571429 0.375      0.44444444]\n"
          ]
        }
      ]
    },
    {
      "cell_type": "markdown",
      "source": [
        "#aplly linear regression using tensorflow\n",
        "\n",
        "y=wx+b"
      ],
      "metadata": {
        "id": "bA7M46doj6kZ"
      }
    },
    {
      "cell_type": "code",
      "source": [
        "x_data = np.random.randn(4,9)\n",
        "w_data = np.random.randn(9,1)\n",
        "b_data = np.zeros(4)\n"
      ],
      "metadata": {
        "id": "3Z6Kw6llj5si"
      },
      "execution_count": 14,
      "outputs": []
    },
    {
      "cell_type": "code",
      "source": [
        "x= tf.constant(x_data , shape=[4,9])\n",
        "w= tf.constant(w_data , shape=[9,1])\n",
        "b= tf.constant(b_data , shape=[4,1])"
      ],
      "metadata": {
        "id": "amL8c1nErgWH"
      },
      "execution_count": 15,
      "outputs": []
    },
    {
      "cell_type": "code",
      "source": [
        "y=tf.add(tf.matmul(x,w),b)\n",
        "y"
      ],
      "metadata": {
        "colab": {
          "base_uri": "https://localhost:8080/"
        },
        "id": "3MSBRg_ZsCiA",
        "outputId": "6d96ee9c-9fa6-4d3e-c3b5-0fedea73e3bd"
      },
      "execution_count": 16,
      "outputs": [
        {
          "output_type": "execute_result",
          "data": {
            "text/plain": [
              "<tf.Tensor 'Add_2:0' shape=(4, 1) dtype=float64>"
            ]
          },
          "metadata": {},
          "execution_count": 16
        }
      ]
    },
    {
      "cell_type": "code",
      "source": [
        "with tf.compat.v1.Session() as sess:\n",
        "  print(sess.run(y))"
      ],
      "metadata": {
        "colab": {
          "base_uri": "https://localhost:8080/"
        },
        "id": "dt1ZWBJzsTf0",
        "outputId": "6b879cd4-257b-4d52-c89f-62874e722ec0"
      },
      "execution_count": 17,
      "outputs": [
        {
          "output_type": "stream",
          "name": "stdout",
          "text": [
            "[[-0.74682576]\n",
            " [-4.49513396]\n",
            " [ 2.87589795]\n",
            " [-1.7932378 ]]\n"
          ]
        }
      ]
    },
    {
      "cell_type": "markdown",
      "source": [
        "Varbile"
      ],
      "metadata": {
        "id": "ZB5EJhjyI9EO"
      }
    },
    {
      "cell_type": "code",
      "source": [
        "#name here for it' name in graph\n",
        "var1 = tf.Variable(12 , name='varaible1')\n",
        "var2 = tf.Variable(13 , name='varaible2')"
      ],
      "metadata": {
        "id": "mUGmbD8rJy22"
      },
      "execution_count": 18,
      "outputs": []
    },
    {
      "cell_type": "code",
      "source": [
        "#get the name\n",
        "var1.name"
      ],
      "metadata": {
        "colab": {
          "base_uri": "https://localhost:8080/",
          "height": 35
        },
        "id": "2QOb0xZyJ3ue",
        "outputId": "0616b8f2-5ca4-4fd3-e9e2-8a5f222851fe"
      },
      "execution_count": 19,
      "outputs": [
        {
          "output_type": "execute_result",
          "data": {
            "text/plain": [
              "'varaible1:0'"
            ],
            "application/vnd.google.colaboratory.intrinsic+json": {
              "type": "string"
            }
          },
          "metadata": {},
          "execution_count": 19
        }
      ]
    },
    {
      "cell_type": "code",
      "source": [
        "##get the value\n",
        "# with tf.compat.v1.Session() as sess:\n",
        "#     print(sess.run(var1))\n",
        "\n",
        "#error because in variable should make an initailizations"
      ],
      "metadata": {
        "id": "2jvPcOHjKECz"
      },
      "execution_count": 20,
      "outputs": []
    },
    {
      "cell_type": "code",
      "source": [
        "init_var=tf.compat.v1.global_variables_initializer()"
      ],
      "metadata": {
        "id": "3Z52D5oMsj2t"
      },
      "execution_count": 21,
      "outputs": []
    },
    {
      "cell_type": "code",
      "source": [
        "with tf.compat.v1.Session() as sess:\n",
        " sess.run(init_var)\n",
        " print(sess.run(var1))"
      ],
      "metadata": {
        "colab": {
          "base_uri": "https://localhost:8080/"
        },
        "id": "PKED3MgkJ_Sj",
        "outputId": "25e69b6e-c7f7-40f0-aea1-973a1e4bac68"
      },
      "execution_count": 22,
      "outputs": [
        {
          "output_type": "stream",
          "name": "stdout",
          "text": [
            "12\n"
          ]
        }
      ]
    },
    {
      "cell_type": "markdown",
      "source": [
        "#Apply linear regression but with variable not constant\n",
        "\n",
        "1- if we used gradient descent to update the value of w,b that mean thier values will be changed, so the code will push error be cause we made thier definition as a constant.\n",
        "\n",
        "2- so make w,b as a variable."
      ],
      "metadata": {
        "id": "N0pdIz7TKas0"
      }
    },
    {
      "cell_type": "code",
      "source": [
        "x= tf.constant([[3],[4],[4]] , shape=[3,1])\n",
        "w= tf.Variable([[1,2,3]], shape=[1,3])\n",
        "b= tf.Variable(1)\n",
        "\n",
        "out = tf.add(tf.matmul(x,w),b)\n",
        "out"
      ],
      "metadata": {
        "colab": {
          "base_uri": "https://localhost:8080/"
        },
        "id": "p3CL9B3HKQDU",
        "outputId": "b91d5524-050f-4231-ff8c-3fb8d23be61b"
      },
      "execution_count": 23,
      "outputs": [
        {
          "output_type": "execute_result",
          "data": {
            "text/plain": [
              "<tf.Tensor 'Add_3:0' shape=(3, 3) dtype=int32>"
            ]
          },
          "metadata": {},
          "execution_count": 23
        }
      ]
    },
    {
      "cell_type": "code",
      "source": [
        "init_var=tf.compat.v1.global_variables_initializer()"
      ],
      "metadata": {
        "id": "yxUEg_naNmdD"
      },
      "execution_count": 24,
      "outputs": []
    },
    {
      "cell_type": "code",
      "source": [
        "with tf.compat.v1.Session() as sess:\n",
        " sess.run(init_var)\n",
        " print(sess.run(out))"
      ],
      "metadata": {
        "colab": {
          "base_uri": "https://localhost:8080/"
        },
        "id": "CVUMjbwaNDx_",
        "outputId": "ec39c024-4e93-4836-8837-b13c84050e99"
      },
      "execution_count": 25,
      "outputs": [
        {
          "output_type": "stream",
          "name": "stdout",
          "text": [
            "[[ 4  7 10]\n",
            " [ 5  9 13]\n",
            " [ 5  9 13]]\n"
          ]
        }
      ]
    },
    {
      "cell_type": "markdown",
      "source": [
        "#Apply Linear regression and using Gradient Descent to update weight"
      ],
      "metadata": {
        "id": "F0l550mgN3fb"
      }
    },
    {
      "cell_type": "code",
      "source": [
        "#original data\n",
        "x_data=np.array(  [[4,2] , [3,5]  , [4,6] ,[7,3] ] ,dtype='float64' )\n",
        "y_data=np.array(  [[5]   ,  [7]   ,  [6]  , [9] ] ,dtype='float64' )"
      ],
      "metadata": {
        "id": "hyAm9A2lN6Ee"
      },
      "execution_count": 26,
      "outputs": []
    },
    {
      "cell_type": "code",
      "source": [
        "#convert original data to tensor\n",
        "x=tf.constant(x_data)\n",
        "y=tf.constant(y_data)\n",
        "w=tf.Variable(np.random.randn(2,1))\n",
        "b=tf.Variable(np.zeros(4, dtype='float64'))"
      ],
      "metadata": {
        "id": "ZjVdSnNMHJi4"
      },
      "execution_count": 27,
      "outputs": []
    },
    {
      "cell_type": "code",
      "source": [
        "#initialization\n",
        "init=tf.compat.v1.global_variables_initializer()"
      ],
      "metadata": {
        "id": "CMn9RCAsHOaQ"
      },
      "execution_count": 28,
      "outputs": []
    },
    {
      "cell_type": "code",
      "source": [
        "#feedforward\n",
        "y_pred=tf.add(tf.matmul(x,w),b)\n",
        "#backward\n",
        "cost=tf.reduce_mean(tf.square(y_pred-y))#MSE\n",
        "optimizer=tf.compat.v1.train.GradientDescentOptimizer(learning_rate=.11).minimize(cost)"
      ],
      "metadata": {
        "id": "2PxH2SyBHccj"
      },
      "execution_count": 29,
      "outputs": []
    },
    {
      "cell_type": "code",
      "source": [
        "with tf.compat.v1.Session() as sess:\n",
        "  sess.run(init)\n",
        "  print(' the initial weight:')\n",
        "  print(sess.run(w))\n",
        "\n",
        "  print(' the first y_pred:')\n",
        "  print(sess.run(y_pred))\n",
        "\n",
        "  print('==================================================')\n",
        "\n",
        "  sess.run(optimizer)\n",
        "\n",
        "  print(' the updated weight:')\n",
        "  print(sess.run(w))\n",
        "\n",
        "  print(' the updated y_pred:')\n",
        "  print(sess.run(y_pred))\n",
        "\n",
        "#will noticed that:: the values of weights changed"
      ],
      "metadata": {
        "colab": {
          "base_uri": "https://localhost:8080/"
        },
        "id": "DsN7kPLvHmFr",
        "outputId": "3c85df35-e27c-419a-8cad-52538df3d00d"
      },
      "execution_count": 30,
      "outputs": [
        {
          "output_type": "stream",
          "name": "stdout",
          "text": [
            " the initial weight:\n",
            "[[ 0.53050176]\n",
            " [-0.99182819]]\n",
            " the first y_pred:\n",
            "[[ 0.13835067  0.13835067  0.13835067  0.13835067]\n",
            " [-3.36763568 -3.36763568 -3.36763568 -3.36763568]\n",
            " [-3.82896211 -3.82896211 -3.82896211 -3.82896211]\n",
            " [ 0.73802777  0.73802777  0.73802777  0.73802777]]\n",
            "==================================================\n",
            " the updated weight:\n",
            "[[8.65395543]\n",
            " [7.00083591]]\n",
            " the updated y_pred:\n",
            "[[49.07564657 49.07564657 49.07564657 49.07564657]\n",
            " [61.42419888 61.42419888 61.42419888 61.42419888]\n",
            " [77.07899023 77.07899023 77.07899023 77.07899023]\n",
            " [82.03834878 82.03834878 82.03834878 82.03834878]]\n"
          ]
        }
      ]
    }
  ]
}